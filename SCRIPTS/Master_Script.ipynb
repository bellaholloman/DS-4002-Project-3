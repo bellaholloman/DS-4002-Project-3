{
 "cells": [
  {
   "cell_type": "markdown",
   "metadata": {},
   "source": [
    "First section: EDA"
   ]
  },
  {
   "cell_type": "code",
   "execution_count": null,
   "metadata": {},
   "outputs": [],
   "source": [
    "import matplotlib.pyplot as plt\n",
    "import os"
   ]
  },
  {
   "cell_type": "code",
   "execution_count": null,
   "metadata": {},
   "outputs": [],
   "source": [
    "# EDA BAR GRAPH\n",
    "\n",
    "def count_images_in_folders(root_dir):\n",
    "    folder_counts = {}\n",
    "    for folder_name in os.listdir(root_dir):\n",
    "        folder_path = os.path.join(root_dir, folder_name)\n",
    "        if os.path.isdir(folder_path):\n",
    "            image_count = len([file for file in os.listdir(folder_path) if file.lower().endswith(('.png', '.jpg', '.jpeg'))])\n",
    "            folder_counts[folder_name] = image_count\n",
    "    return folder_counts\n",
    "\n",
    "def plot_bar_graph(folder_counts):\n",
    "    plt.bar(range(len(folder_counts)), list(folder_counts.values()), align='center')\n",
    "    plt.xticks(range(len(folder_counts)), list(folder_counts.keys()), rotation = 45)\n",
    "    plt.xlabel('Folders')\n",
    "    plt.ylabel('Image Counts')\n",
    "    plt.title('Image Counts in Each Set')\n",
    "    for i, count in enumerate(folder_counts.values()):\n",
    "        plt.text(i, count + 0.1, str(count), ha='center')\n",
    "    plt.tight_layout()\n",
    "    plt.show()\n",
    "\n",
    "if __name__ == \"__main__\":\n",
    "    root_directory = \"C:/Users/speed/Desktop/DS 4002/data\"\n",
    "    folder_counts = count_images_in_folders(root_directory)\n",
    "    print(\"Folder Counts:\", folder_counts)\n",
    "    plot_bar_graph(folder_counts)"
   ]
  },
  {
   "cell_type": "markdown",
   "metadata": {},
   "source": [
    "Second section: KNN model\n"
   ]
  },
  {
   "cell_type": "code",
   "execution_count": null,
   "metadata": {},
   "outputs": [],
   "source": [
    "import os\n",
    "import numpy as np\n",
    "import pandas as pd\n",
    "import matplotlib.pyplot as plt\n",
    "from matplotlib.image import imread\n",
    "import matplotlib.image as mpimg\n",
    "import cv2\n",
    "from sklearn.model_selection import train_test_split\n",
    "from sklearn.decomposition import PCA\n",
    "from sklearn.neighbors import KNeighborsClassifier\n",
    "from sklearn.metrics import accuracy_score, f1_score\n",
    "from sklearn.svm import SVC\n",
    "from PIL import Image\n",
    "from sklearn.preprocessing import StandardScaler"
   ]
  },
  {
   "cell_type": "code",
   "execution_count": null,
   "metadata": {},
   "outputs": [],
   "source": [
    "images_with_mask_dir = \"./DATA/with_mask\"\n",
    "images_without_mask_dir = \"./DATA/without_mask\""
   ]
  },
  {
   "cell_type": "code",
   "execution_count": null,
   "metadata": {},
   "outputs": [],
   "source": [
    "data_path = \"./DATA\"\n",
    "categories = [\"with_mask\",\"without_mask\"]\n",
    "data=[]\n",
    "labels=[]\n",
    "for category in categories:\n",
    "  file_path = os.path.join(data_path,category) #with_mask and without_mask folders path\n",
    "  for img in os.listdir(file_path):\n",
    "    image_path = os.path.join(file_path,img)# these are images path which is present inside with_mask and without_mask folders\n",
    "    image = cv2.imread(image_path)\n",
    "    gray_image = cv2.cvtColor(image, cv2.COLOR_BGR2GRAY)  #convert colour image to grey to reduce compputation\n",
    "    resize_image = cv2.resize(gray_image,(50,50))  #resize to bring all the images to similar size\n",
    "    image_array = np.array(resize_image)\n",
    "    # print(image_array)\n",
    "    data.append(image_array)\n",
    "    if category==\"with_mask\":\n",
    "      labels.append(1)\n",
    "    elif category ==\"without_mask\":\n",
    "      labels.append(0)\n",
    "\n",
    "print(data[0].shape)\n",
    "print(len(data))\n",
    "print(len(labels))"
   ]
  },
  {
   "cell_type": "code",
   "execution_count": null,
   "metadata": {},
   "outputs": [],
   "source": [
    "data=np.array(data)  #shape is (7553,50,50) we have 7553 images each of size (50,50)\n",
    "num_columns = data.shape[1] * data.shape[2] \n",
    "reshaped_data = data.reshape(data.shape[0], num_columns)  #(7553,2500)\n",
    "df = pd.DataFrame(reshaped_data)\n",
    "df['Labels'] = labels\n",
    "\n",
    "df.head() #first 5 rows of the dataframe"
   ]
  },
  {
   "cell_type": "code",
   "execution_count": null,
   "metadata": {},
   "outputs": [],
   "source": [
    "# Function taken from kaggle to plot images\n",
    "def sample_train_test_accuracy(X_train, y_train, X_test, y_test):\n",
    "\n",
    "    subset_sizes = np.linspace(0.001, 0.3, num=10)  # 0.1% to 10%  i.e.,\n",
    "# ex: - [0.001, 0.01211111,0.02322222,0.03433333,0.04544444,0.05655556,0.06766667,0.07877778,0.08988889,0.1] \n",
    "    accuracies = []\n",
    "    f1_scores=[]\n",
    "    for size_percentage in subset_sizes:\n",
    "        # Sample subset of training data\n",
    "        X_subset,_ , y_subset, _ = train_test_split(X_train, y_train, train_size=size_percentage, random_state=42)\n",
    "        #I did not take test from here becuase when train is 0.1% test will be remianing 99.9% which is very high\n",
    "        #To reduce the dimensionality we are using PCA\n",
    "        desired_variance = 0.95\n",
    "        pca = PCA(n_components=desired_variance)\n",
    "        X_train_pca = pca.fit_transform(X_subset)\n",
    "        X_test_pca = pca.transform(X_test)\n",
    "        # kNN classifier\n",
    "        knn = KNeighborsClassifier(n_neighbors=5)\n",
    "        knn.fit(X_train_pca, y_subset)\n",
    "        y_pred = knn.predict(X_test_pca)\n",
    "        # Calculate accuracy\n",
    "        accuracy = accuracy_score(y_test, y_pred)\n",
    "        accuracies.append(accuracy)\n",
    "        f1 = f1_score(y_test, y_pred)\n",
    "        f1_scores.append(f1)\n",
    "\n",
    "    plt.plot(subset_sizes * 100, accuracies, marker='o', label='Accuracy')\n",
    "    plt.plot(subset_sizes * 100, f1_scores, marker='o', label='F1 Score')\n",
    "    plt.xlabel(\"Training Set Size (%)\")\n",
    "    plt.ylabel(\"Metric Score\")\n",
    "    plt.title(\"Test Metric Score vs. Training Set Size\")\n",
    "    plt.legend()\n",
    "    plt.grid(True)\n",
    "    plt.show()\n"
   ]
  },
  {
   "cell_type": "code",
   "execution_count": null,
   "metadata": {},
   "outputs": [],
   "source": [
    "X_train, X_test, y_train, y_test = train_test_split(df.drop('Labels', axis=1), df['Labels'], test_size=0.2, random_state=42)\n",
    "sample_train_test_accuracy(X_train, y_train, X_test, y_test)"
   ]
  },
  {
   "cell_type": "code",
   "execution_count": null,
   "metadata": {},
   "outputs": [],
   "source": [
    "categories = [\"with_mask\",\"without_mask\"]\n",
    "data_cnn=[]\n",
    "labels_cnn=[]\n",
    "\n",
    "path_of_data = \"./DATA\"\n",
    "for category in categories:\n",
    "  file_path1 = os.path.join(path_of_data,category) #with_mask and without_mask folders path\n",
    "  for img in os.listdir(file_path1):\n",
    "    image_path = os.path.join(file_path1,img)# these are images path which is present inside with_mask and without_mask folders\n",
    "    image = cv2.imread(image_path)\n",
    "    #here i am not converting the image into Grey\n",
    "    resize_image = cv2.resize(image,(128,128))  #resize to bring all the images to similar size\n",
    "    image_array = np.array(resize_image)\n",
    "    # print(image_array)\n",
    "    data_cnn.append(image_array)\n",
    "    if category==\"with_mask\":\n",
    "      labels_cnn.append(1)\n",
    "    elif category ==\"without_mask\":\n",
    "      labels_cnn.append(0)\n",
    "data_cnn[0].shape"
   ]
  },
  {
   "cell_type": "markdown",
   "metadata": {},
   "source": [
    "Third Section: TF and KERAS Modeling"
   ]
  },
  {
   "cell_type": "code",
   "execution_count": null,
   "metadata": {},
   "outputs": [],
   "source": [
    "import pandas as pd\n",
    "import numpy as np\n",
    "import matplotlib.pyplot as plt\n",
    "import seaborn as sns\n",
    "import warnings\n",
    "warnings.filterwarnings('ignore')\n",
    "import os\n",
    "# Import Tenosrflow\n",
    "import tensorflow as tf\n",
    "from tensorflow import keras\n",
    "import zipfile"
   ]
  },
  {
   "cell_type": "code",
   "execution_count": null,
   "metadata": {},
   "outputs": [],
   "source": [
    "train_mask_dir = os.path.join('./DATA/train/with_mask')\n",
    "train_without_mask_dir = os.path.join('./DATA/train/without_mask')"
   ]
  },
  {
   "cell_type": "code",
   "execution_count": null,
   "metadata": {},
   "outputs": [],
   "source": [
    "train_mask = os.listdir(train_mask_dir)\n",
    "train_without = os.listdir(train_without_mask_dir)\n",
    "\n",
    "print(f'Total Mask Data: {len(train_mask)}')\n",
    "print(f'Mask-present Data \\n{train_mask[:10]}')\n",
    "print(f'No mask Data\\n{train_without[:10]}')\n",
    "# Totals for each\n",
    "print('Size of mask-present images array: ',len(os.listdir(train_mask_dir)))\n",
    "print('Size of no-mask images array: ',len(os.listdir(train_without_mask_dir)))"
   ]
  },
  {
   "cell_type": "code",
   "execution_count": null,
   "metadata": {},
   "outputs": [],
   "source": [
    "import matplotlib.image as mping\n",
    "%matplotlib inline\n",
    "nrows = 4\n",
    "ncols = 4\n",
    "pic_index = 0"
   ]
  },
  {
   "cell_type": "code",
   "execution_count": null,
   "metadata": {},
   "outputs": [],
   "source": [
    "import os\n",
    "import matplotlib.pyplot as plt\n",
    "\n",
    "folder_path = \"./DATA/train/with_mask\"\n",
    "files = os.listdir(folder_path)\n",
    "\n",
    "num_printed = 0\n",
    "\n",
    "fig, axs = plt.subplots(2, 4, figsize=(12, 6))\n",
    "\n",
    "print('Mask Image\\n\\n')\n",
    "\n",
    "for file in files:\n",
    "    \n",
    "    if file.endswith(\".jpg\") or file.endswith(\".png\") or file.endswith(\".jpeg\"):\n",
    "        \n",
    "        image_path = os.path.join(folder_path, file)\n",
    "        \n",
    "        img = plt.imread(image_path)\n",
    "        row_index = num_printed // 4\n",
    "        col_index = num_printed % 4\n",
    "        axs[row_index, col_index].imshow(img)\n",
    "        axs[row_index, col_index].axis('off')\n",
    "        \n",
    "        num_printed += 1\n",
    "        if num_printed == 8:\n",
    "            break\n",
    "\n",
    "# Hide any empty subplots\n",
    "for i in range(num_printed, 8):\n",
    "    row_index = i // 4\n",
    "    col_index = i % 4\n",
    "    axs[row_index, col_index].axis('off')\n",
    "\n",
    "# Adjust layout\n",
    "plt.tight_layout()\n",
    "plt.show()\n"
   ]
  },
  {
   "cell_type": "code",
   "execution_count": null,
   "metadata": {},
   "outputs": [],
   "source": [
    "import os\n",
    "import matplotlib.pyplot as plt\n",
    "\n",
    "folder_path = \"./DATA/train/without_mask\"\n",
    "files = os.listdir(folder_path)\n",
    "\n",
    "num_printed = 0\n",
    "\n",
    "fig, axs = plt.subplots(2, 4, figsize=(12, 6))\n",
    "\n",
    "print('With Out Mask Image\\n\\n')\n",
    "\n",
    "for file in files:\n",
    "    \n",
    "    if file.endswith(\".jpg\") or file.endswith(\".png\") or file.endswith(\".jpeg\"):\n",
    "        \n",
    "        image_path = os.path.join(folder_path, file)\n",
    "        \n",
    "        img = plt.imread(image_path)\n",
    "        row_index = num_printed // 4\n",
    "        col_index = num_printed % 4\n",
    "        axs[row_index, col_index].imshow(img)\n",
    "        axs[row_index, col_index].axis('off')\n",
    "        \n",
    "        num_printed += 1\n",
    "        if num_printed == 8:\n",
    "            break\n",
    "\n",
    "# Hide any empty subplots\n",
    "for i in range(num_printed, 8):\n",
    "    row_index = i // 4\n",
    "    col_index = i % 4\n",
    "    axs[row_index, col_index].axis('off')\n",
    "\n",
    "# Adjust layout\n",
    "plt.tight_layout()\n",
    "plt.show()\n"
   ]
  },
  {
   "cell_type": "code",
   "execution_count": null,
   "metadata": {},
   "outputs": [],
   "source": [
    "model = tf.keras.Sequential([\n",
    "    tf.keras.layers.Conv2D(16,(3,3),activation='relu',input_shape= (300,300,3)),\n",
    "    tf.keras.layers.MaxPooling2D(2,2),\n",
    "\n",
    "    tf.keras.layers.Conv2D(32,(3,3),activation='relu'),\n",
    "    tf.keras.layers.MaxPooling2D(2,2),\n",
    "\n",
    "    tf.keras.layers.Conv2D(64,(3,3),activation='relu'),\n",
    "    tf.keras.layers.MaxPooling2D(2,2),\n",
    "\n",
    "    tf.keras.layers.Conv2D(64,(3,3),activation='relu'),\n",
    "    tf.keras.layers.MaxPooling2D(2,2),\n",
    "\n",
    "    tf.keras.layers.Conv2D(64,(3,3),activation='relu'),\n",
    "    tf.keras.layers.MaxPooling2D(2,2),\n",
    "\n",
    "    tf.keras.layers.Flatten(),\n",
    "    tf.keras.layers.Dense(512,activation='relu'),\n",
    "    tf.keras.layers.Dense(1,activation='sigmoid')\n",
    "])\n",
    "\n",
    "model.summary()"
   ]
  },
  {
   "cell_type": "code",
   "execution_count": null,
   "metadata": {},
   "outputs": [],
   "source": [
    "from tensorflow.keras.preprocessing.image import ImageDataGenerator\n",
    "train_data = ImageDataGenerator(rescale = 1 /255)\n",
    "train_gernater = train_data.flow_from_directory(\n",
    "    './DATA/train',\n",
    "    target_size=(300,300),\n",
    "    batch_size=128,\n",
    "    class_mode = 'binary'\n",
    ")"
   ]
  },
  {
   "cell_type": "code",
   "execution_count": null,
   "metadata": {},
   "outputs": [],
   "source": [
    "# Callback taken from kaggle code\n",
    "class myCallBack(tf.keras.callbacks.Callback):\n",
    "    def on_epoch(self,epoch,logs={}):\n",
    "        if (logs.get('accuracy' >= 0.80)):\n",
    "            print('80% accuracy reached')\n",
    "            self.model.stop_traning = True\n",
    "callbacks  = myCallBack()            \n",
    "\n",
    "from tensorflow.keras.optimizers import RMSprop\n",
    "\n",
    "model.compile(loss='binary_crossentropy',\n",
    "              optimizer=RMSprop(learning_rate=0.001),\n",
    "              metrics=['accuracy'])"
   ]
  },
  {
   "cell_type": "code",
   "execution_count": null,
   "metadata": {},
   "outputs": [],
   "source": [
    "history = model.fit(\n",
    "    train_gernater,\n",
    "    steps_per_epoch=8,\n",
    "    epochs=15,\n",
    "    verbose=1,\n",
    "    callbacks=[callbacks]\n",
    ")\n",
    "\n",
    "acc = history.history['accuracy']\n",
    "loss = history.history['loss']\n",
    "epochs = range(len(acc))"
   ]
  },
  {
   "cell_type": "code",
   "execution_count": null,
   "metadata": {},
   "outputs": [],
   "source": [
    "plt.plot(epochs,acc,label='Accuracy')\n",
    "plt.plot(epochs,loss)"
   ]
  },
  {
   "cell_type": "code",
   "execution_count": null,
   "metadata": {},
   "outputs": [],
   "source": [
    "import numpy as np\n",
    "import os\n",
    "from keras.preprocessing import image\n",
    "\n",
    "# testing with our own images\n",
    "img = image.load_img('./DATA/test/with_mask/with_mask_25.jpg', target_size=(300,300))\n",
    "x = image.img_to_array(img)\n",
    "x = np.expand_dims(x, axis=0)\n",
    "\n",
    "images = np.vstack([x])\n",
    "# print(img)\n",
    "plt.imshow(img)\n",
    "\n",
    "classes = model.predict(images, batch_size=10)\n",
    "# print(classes[0])\n",
    "if classes[0] > 0.5:\n",
    "    print(fn +  '\\n No Mask Present')\n",
    "else:\n",
    "    print(fn + '\\n Mask Present' )\n",
    "\n"
   ]
  }
 ],
 "metadata": {
  "language_info": {
   "name": "python"
  }
 },
 "nbformat": 4,
 "nbformat_minor": 2
}
